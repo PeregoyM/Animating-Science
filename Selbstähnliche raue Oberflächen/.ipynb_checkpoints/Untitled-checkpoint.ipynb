{
 "cells": [
  {
   "cell_type": "markdown",
   "metadata": {},
   "source": [
    "---"
   ]
  },
  {
   "cell_type": "code",
   "execution_count": 1,
   "metadata": {},
   "outputs": [],
   "source": [
    "import numpy as np\n",
    "import matplotlib.pyplot as plt"
   ]
  },
  {
   "cell_type": "code",
   "execution_count": 43,
   "metadata": {},
   "outputs": [
    {
     "name": "stdout",
     "output_type": "stream",
     "text": [
      "[0, 1]\n",
      "[0, 0]\n"
     ]
    }
   ],
   "source": [
    "L = 1\n",
    "iter_ = 10\n",
    "\n",
    "X = []; Y = []\n",
    "X.append(0);Y.append(0)\n",
    "X.append(L);Y.append(0)\n",
    "\n",
    "# for each line\n",
    "for i in range(iter_):\n",
    "    for e in range(len(X)):\n",
    "        # calculate vector\n",
    "        X[e]\n",
    "        # fractalize vector into smaller fratal lines\n",
    "        \n",
    "        \n",
    "        \n",
    "        pass\n",
    "    pass\n",
    "print(X)\n",
    "print(Y)\n",
    "#plt.plot(X,Y)\n",
    "#plt.show()"
   ]
  },
  {
   "cell_type": "code",
   "execution_count": 44,
   "metadata": {},
   "outputs": [],
   "source": [
    "import turtle as tu\n",
    "\n",
    "def Koch(length):\n",
    "    \"\"\"draw a Koch fractal curve recursively\"\"\"\n",
    "    if length <= 2 :\n",
    "        tu.fd(length)\n",
    "        return\n",
    "    Koch(length/3)\n",
    "    tu.lt(60)\n",
    "    Koch(length/3)\n",
    "    tu.rt(120)\n",
    "    Koch(length/3)\n",
    "    tu.lt(60)\n",
    "    Koch(length/3)\n",
    "tu.speed(10)\n",
    "\n",
    "length = 3000.0\n",
    "\n",
    "# move to starting position\n",
    "tu.penup()\n",
    "tu.backward(length/2.0)\n",
    "tu.pendown()\n",
    "tu.title('Koch fractal curve')\n",
    "Koch(length)\n",
    "# keep showing until window corner x is clicked\n",
    "tu.done()"
   ]
  },
  {
   "cell_type": "code",
   "execution_count": null,
   "metadata": {},
   "outputs": [],
   "source": []
  }
 ],
 "metadata": {
  "kernelspec": {
   "display_name": "Python 3",
   "language": "python",
   "name": "python3"
  },
  "language_info": {
   "codemirror_mode": {
    "name": "ipython",
    "version": 3
   },
   "file_extension": ".py",
   "mimetype": "text/x-python",
   "name": "python",
   "nbconvert_exporter": "python",
   "pygments_lexer": "ipython3",
   "version": "3.5.7"
  }
 },
 "nbformat": 4,
 "nbformat_minor": 2
}
