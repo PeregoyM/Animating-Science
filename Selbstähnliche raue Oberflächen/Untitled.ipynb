{
 "cells": [
  {
   "cell_type": "code",
   "execution_count": null,
   "metadata": {},
   "outputs": [],
   "source": [
    "import turtle as tu\n",
    "\n",
    "# Kochkurve\n",
    "def Koch(length):\n",
    "    if length <= 2 :\n",
    "        tu.fd(length)\n",
    "        return\n",
    "    Koch(length/3)\n",
    "    tu.lt(60)\n",
    "    Koch(length/3)\n",
    "    tu.rt(120)\n",
    "    Koch(length/3)\n",
    "    tu.lt(60)\n",
    "    Koch(length/3)\n",
    "\n",
    "# Keine Animation \n",
    "tu.tracer(False)\n",
    "\n",
    "# Breite der Kurve [px]\n",
    "length = 800\n",
    "\n",
    "# Startposition\n",
    "tu.penup()\n",
    "tu.backward(length/2.0)\n",
    "tu.pendown()\n",
    "tu.title('Koch fractal curve')\n",
    "Koch(length)\n",
    "tu.done()"
   ]
  },
  {
   "cell_type": "code",
   "execution_count": null,
   "metadata": {},
   "outputs": [],
   "source": []
  }
 ],
 "metadata": {
  "kernelspec": {
   "display_name": "Python 3",
   "language": "python",
   "name": "python3"
  },
  "language_info": {
   "codemirror_mode": {
    "name": "ipython",
    "version": 3
   },
   "file_extension": ".py",
   "mimetype": "text/x-python",
   "name": "python",
   "nbconvert_exporter": "python",
   "pygments_lexer": "ipython3",
   "version": "3.5.7"
  }
 },
 "nbformat": 4,
 "nbformat_minor": 2
}
