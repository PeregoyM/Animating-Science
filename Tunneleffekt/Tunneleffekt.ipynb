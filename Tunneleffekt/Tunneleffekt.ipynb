{
 "cells": [
  {
   "cell_type": "markdown",
   "metadata": {},
   "source": [
    "# Potentialbarriere und Tunneleffekt"
   ]
  },
  {
   "cell_type": "code",
   "execution_count": 1,
   "metadata": {},
   "outputs": [
    {
     "data": {
      "image/png": "[encoded data removed]",
      "text/latex": [
       "$$\\left \\{ A_{2} : \\frac{2 A_{1} k \\left(k + q\\right)}{- k^{2} e^{2 i a q} + k^{2} + 2 k q e^{2 i a q} + 2 k q - q^{2} e^{2 i a q} + q^{2}}, \\quad A_{3} : \\frac{4 A_{1} k q e^{i a \\left(- k + q\\right)}}{- k^{2} e^{2 i a q} + k^{2} + 2 k q e^{2 i a q} + 2 k q - q^{2} e^{2 i a q} + q^{2}}, \\quad B_{1} : - \\frac{A_{1} \\left(k^{2} e^{2 i a q} - k^{2} - q^{2} e^{2 i a q} + q^{2}\\right)}{- k^{2} e^{2 i a q} + k^{2} + 2 k q e^{2 i a q} + 2 k q - q^{2} e^{2 i a q} + q^{2}}, \\quad B_{2} : - \\frac{2 A_{1} k \\left(k - q\\right) e^{2 i a q}}{- k^{2} e^{2 i a q} + k^{2} + 2 k q e^{2 i a q} + 2 k q - q^{2} e^{2 i a q} + q^{2}}\\right \\}$$"
      ],
      "text/plain": [
       "⎧                                                                             \n",
       "⎪                            2⋅A₁⋅k⋅(k + q)                                   \n",
       "⎨A₂: ──────────────────────────────────────────────────────────────, A₃: ─────\n",
       "⎪       2  2⋅ⅈ⋅a⋅q    2          2⋅ⅈ⋅a⋅q            2  2⋅ⅈ⋅a⋅q    2         2 \n",
       "⎩    - k ⋅ℯ        + k  + 2⋅k⋅q⋅ℯ        + 2⋅k⋅q - q ⋅ℯ        + q       - k ⋅\n",
       "\n",
       "                         ⅈ⋅a⋅(-k + q)                                        ⎛\n",
       "               4⋅A₁⋅k⋅q⋅ℯ                                                -A₁⋅⎝\n",
       "─────────────────────────────────────────────────────────, B₁: ───────────────\n",
       " 2⋅ⅈ⋅a⋅q    2          2⋅ⅈ⋅a⋅q            2  2⋅ⅈ⋅a⋅q    2         2  2⋅ⅈ⋅a⋅q  \n",
       "ℯ        + k  + 2⋅k⋅q⋅ℯ        + 2⋅k⋅q - q ⋅ℯ        + q       - k ⋅ℯ        +\n",
       "\n",
       " 2  2⋅ⅈ⋅a⋅q    2    2  2⋅ⅈ⋅a⋅q    2⎞                                          \n",
       "k ⋅ℯ        - k  - q ⋅ℯ        + q ⎠                                   -2⋅A₁⋅k\n",
       "───────────────────────────────────────────────, B₂: ─────────────────────────\n",
       "  2          2⋅ⅈ⋅a⋅q            2  2⋅ⅈ⋅a⋅q    2         2  2⋅ⅈ⋅a⋅q    2       \n",
       " k  + 2⋅k⋅q⋅ℯ        + 2⋅k⋅q - q ⋅ℯ        + q       - k ⋅ℯ        + k  + 2⋅k⋅\n",
       "\n",
       "          2⋅ⅈ⋅a⋅q                    ⎫\n",
       "⋅(k - q)⋅ℯ                           ⎪\n",
       "─────────────────────────────────────⎬\n",
       "   2⋅ⅈ⋅a⋅q            2  2⋅ⅈ⋅a⋅q    2⎪\n",
       "q⋅ℯ        + 2⋅k⋅q - q ⋅ℯ        + q ⎭"
      ]
     },
     "execution_count": 1,
     "metadata": {},
     "output_type": "execute_result"
    }
   ],
   "source": [
    "from sympy import *\n",
    "init_printing()\n",
    "\n",
    "# Symbols\n",
    "A1, B1, A2, B2, A3, k, q, a = symbols(\"A1 B1 A2 B2 A3 k q a\")\n",
    "\n",
    "# Equations\n",
    "eq1 = Eq(A1 + B1, A2 + B2)           \n",
    "eq2 = Eq(k * (A1 - B1), q * (A2 - B2))\n",
    "eq3 = Eq(A2 * exp(I * q * a) + B2 * exp(-I * q * a), A3 * exp(I * k * a))\n",
    "eq4 = Eq(q * (A2 * exp(I * q * a) - B2 * exp(-I * q * a)), k * A3 * exp(I * k * a))\n",
    "\n",
    "# Find the solution \n",
    "solve((eq1, eq2, eq3, eq4), (B1, A2, B2, A3))"
   ]
  }
 ],
 "metadata": {
  "kernelspec": {
   "display_name": "Python 3",
   "language": "python",
   "name": "python3"
  },
  "language_info": {
   "codemirror_mode": {
    "name": "ipython",
    "version": 3
   },
   "file_extension": ".py",
   "mimetype": "text/x-python",
   "name": "python",
   "nbconvert_exporter": "python",
   "pygments_lexer": "ipython3",
   "version": "3.5.7"
  }
 },
 "nbformat": 4,
 "nbformat_minor": 2
}
