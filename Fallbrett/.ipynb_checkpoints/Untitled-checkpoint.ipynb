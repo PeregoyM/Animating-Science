{
 "cells": [
  {
   "cell_type": "markdown",
   "metadata": {},
   "source": [
    "# Galton Fallbrett"
   ]
  },
  {
   "cell_type": "markdown",
   "metadata": {},
   "source": [
    "$$f(x) = \\frac{1}{\\sigma \\sqrt{2\\pi}} e^{-\\frac{1}{2} \\big(\\frac{x-\\mu}{\\sigma}\\big)^2} $$"
   ]
  },
  {
   "cell_type": "code",
   "execution_count": 1,
   "metadata": {},
   "outputs": [],
   "source": [
    "import matplotlib.pyplot as plt\n",
    "import numpy as np\n",
    "import matplotlib"
   ]
  },
  {
   "cell_type": "markdown",
   "metadata": {},
   "source": [
    "### Part 1 | Falling Sand "
   ]
  },
  {
   "cell_type": "code",
   "execution_count": 2,
   "metadata": {},
   "outputs": [
    {
     "name": "stderr",
     "output_type": "stream",
     "text": [
      "/home/quentin/v/lib/python3.5/site-packages/matplotlib/font_manager.py:1241: UserWarning: findfont: Font family ['sans-serif'] not found. Falling back to DejaVu Sans.\n",
      "  (prop.get_family(), self.defaultFamily[fontext]))\n"
     ]
    }
   ],
   "source": [
    "# for LaTeX font\n",
    "from matplotlib import rc\n",
    "rc('font',**{'family':'sans-serif','sans-serif':['Helvetica']})\n",
    "rc('text', usetex=True)\n",
    "\n",
    "N = 10000\n",
    "FRAMES = 40\n",
    "\n",
    "values = np.random.normal(0,1,N)\n",
    "\n",
    "for frame in range(FRAMES):\n",
    "    matplotlib.style.use('ggplot')\n",
    "    \n",
    "    fig, ax = plt.subplots(1,figsize=(8,5), dpi=200)\n",
    "    ax.hist(values[0:N//FRAMES * frame],50, color=\"black\")\n",
    "    ax.plot(values[N//FRAMES * frame:N//FRAMES * (frame +1)],np.random.rand(N//FRAMES)*700+30, \n",
    "            \"s\", color=\"black\", ms=2)\n",
    "    ax.set_xlim(-4,4)\n",
    "    ax.set_ylim(0,650)\n",
    "    ax.set_xticks([]); ax.set_yticks([])\n",
    "    ax.tick_params(labelbottom=False, labelleft=False)\n",
    "    ax.grid(False)\n",
    "    \n",
    "    \n",
    "    ax.text(-1.97,670,r\"$f(x) = \\frac{1}{\\sigma \\sqrt{2\\pi}} e^{-\\frac{1}{2} \\big(\\frac{x-\\mu}{\\sigma}\\big)^2}$\",\n",
    "             color=\"black\", size=28)\n",
    "    ax.text(-1.97,670,r\"$f(x) = \\frac{1}{\\sigma \\sqrt{2\\pi}} e^{-\\frac{1}{2} \\big(\\frac{x-\\mu}{\\sigma}\\big)^2}$\",\n",
    "             color=(220/250, 20/250, 60/250, (1/FRAMES) * frame), size=28)\n",
    "    \n",
    "    plt.savefig(str(frame) + \".png\",  bbox_inches=\"tight\")\n",
    "    plt.close()"
   ]
  },
  {
   "cell_type": "markdown",
   "metadata": {},
   "source": [
    "### Part 2 | Draw $f(x)$"
   ]
  },
  {
   "cell_type": "code",
   "execution_count": 3,
   "metadata": {},
   "outputs": [],
   "source": [
    "FRAMES = 35\n",
    "\n",
    "def norm(x, sigma, mu):\n",
    "    return (1/(sigma * np.sqrt(2*np.pi))) * np.exp(-1/2 * ((x-mu)/sigma) ** 2)\n",
    "\n",
    "X = np.arange(-5,5,0.05)\n",
    "Y = []\n",
    "for x in X:\n",
    "    Y.append(norm(x,1,0) * 1450)\n",
    "\n",
    "\n",
    "for frame in range(FRAMES):\n",
    "    matplotlib.style.use('ggplot')\n",
    "    \n",
    "    fig, ax = plt.subplots(1,figsize=(8,5), dpi=200)\n",
    "    ax.hist(values[0:N],50, color=\"black\")\n",
    "    ax.set_xlim(-4,4)\n",
    "    ax.set_ylim(0,650)\n",
    "    ax.set_xticks([]); ax.set_yticks([])\n",
    "    ax.tick_params(labelbottom=False, labelleft=False)\n",
    "    ax.grid(False)\n",
    "    \n",
    "    ax.text(-1.97,670,r\"$f(x) = \\frac{1}{\\sigma \\sqrt{2\\pi}} e^{-\\frac{1}{2} \\big(\\frac{x-\\mu}{\\sigma}\\big)^2}$\",\n",
    "             color=\"crimson\", size=28)\n",
    "    \n",
    "    ax.plot(X[0:len(X)//FRAMES * frame],Y[0:len(X)//FRAMES * frame], lw=3)\n",
    "    \n",
    "    plt.savefig(str(frame+40) + \".png\",  bbox_inches=\"tight\")\n",
    "    plt.close()"
   ]
  },
  {
   "cell_type": "markdown",
   "metadata": {},
   "source": [
    "### Part 3 | Draw $\\sigma$ and $\\mu$"
   ]
  },
  {
   "cell_type": "markdown",
   "metadata": {},
   "source": [
    "### $\\mu$"
   ]
  },
  {
   "cell_type": "code",
   "execution_count": 4,
   "metadata": {},
   "outputs": [
    {
     "name": "stderr",
     "output_type": "stream",
     "text": [
      "/home/quentin/v/lib/python3.5/site-packages/matplotlib/font_manager.py:1241: UserWarning: findfont: Font family ['sans-serif'] not found. Falling back to DejaVu Sans.\n",
      "  (prop.get_family(), self.defaultFamily[fontext]))\n"
     ]
    }
   ],
   "source": [
    "FRAMES = 25\n",
    "\n",
    "X2 = np.zeros(FRAMES)\n",
    "Y2 = np.arange(0,600,600/FRAMES)\n",
    "\n",
    "for frame in range(FRAMES):\n",
    "    matplotlib.style.use('ggplot')\n",
    "    \n",
    "    fig, ax = plt.subplots(1,figsize=(8,5), dpi=200)\n",
    "    ax.hist(values[0:N],50, color=\"black\")\n",
    "    ax.set_xlim(-4,4)\n",
    "    ax.set_ylim(0,650)\n",
    "    ax.set_xticks([]); ax.set_yticks([])\n",
    "    ax.tick_params(labelbottom=False, labelleft=False)\n",
    "    ax.grid(False)\n",
    "    \n",
    "    ax.text(-1.97,670,r\"$f(x) = \\frac{1}{\\sigma \\sqrt{2\\pi}} e^{-\\frac{1}{2} \\big(\\frac{x-\\mu}{\\sigma}\\big)^2}$\",\n",
    "            color=\"crimson\", size=28)\n",
    "    \n",
    "    ax.plot(X,Y, lw=3)\n",
    "    \n",
    "    ax.plot(X2,Y2, \"--\", \n",
    "            lw=1, color=(35/200, 107/200, 142/200,(1/FRAMES) * frame))\n",
    "    \n",
    "    ax.text(-0.11,175,r\"$\\mu$\",\n",
    "            color=(35/200, 107/200, 142/200, (1/FRAMES) * frame), \n",
    "            backgroundcolor=\"black\", size=20)\n",
    "    \n",
    "    plt.savefig(str(frame+75) + \".png\",  bbox_inches=\"tight\")\n",
    "    plt.close()"
   ]
  },
  {
   "cell_type": "markdown",
   "metadata": {},
   "source": [
    "### Fade in $\\sigma$"
   ]
  },
  {
   "cell_type": "code",
   "execution_count": 5,
   "metadata": {},
   "outputs": [],
   "source": [
    "FRAMES = 25\n",
    "\n",
    "X3 = np.zeros(FRAMES) + 0.95\n",
    "X4 = np.zeros(FRAMES) - 0.95\n",
    "Y3 = np.arange(0,370,370/FRAMES)\n",
    "Y4 = np.arange(0,370,370/FRAMES)\n",
    "\n",
    "for frame in range(FRAMES):\n",
    "    matplotlib.style.use('ggplot')\n",
    "    \n",
    "    fig, ax = plt.subplots(1,figsize=(8,5), dpi=200)\n",
    "    ax.hist(values[0:N],50, color=\"black\")\n",
    "    ax.set_xlim(-4,4)\n",
    "    ax.set_ylim(0,650)\n",
    "    ax.set_xticks([]); ax.set_yticks([])\n",
    "    ax.tick_params(labelbottom=False, labelleft=False)\n",
    "    ax.grid(False)\n",
    "    \n",
    "    ax.text(-1.97,670,r\"$f(x) = \\frac{1}{\\sigma \\sqrt{2\\pi}} e^{-\\frac{1}{2} \\big(\\frac{x-\\mu}{\\sigma}\\big)^2}$\",\n",
    "             color=\"crimson\", size=28)\n",
    "    \n",
    "    ax.plot(X,Y, lw=3, zorder=10)\n",
    "    \n",
    "    ax.plot(X2,Y2, \"--\", lw=1, color=\"steelblue\")\n",
    "    \n",
    "    ax.text(-0.11,175,r\"$\\mu$\",\n",
    "            color=(35/200, 107/200, 142/200, 1), \n",
    "            backgroundcolor=\"black\",size=20)\n",
    "    \n",
    "    \n",
    "    ax.plot(X3,Y3, \"--\", lw=1, color=(35/200, 107/200, 142/200,(1/FRAMES) * frame))\n",
    "    ax.plot(X4,Y4, \"--\", lw=1, color=(35/200, 107/200, 142/200,(1/FRAMES) * frame))\n",
    "    ax.text(0.6,100,r\"$\\mu + \\sigma$\",\n",
    "            color=(35/200, 107/200, 142/200,(1/FRAMES) * frame), \n",
    "            backgroundcolor=\"black\", size=20)\n",
    "    ax.text(-1.4,100,r\"$\\mu - \\sigma$\",\n",
    "            color=(35/200, 107/200, 142/200,(1/FRAMES) * frame), \n",
    "            backgroundcolor=\"black\", size=20)\n",
    "        \n",
    "    \n",
    "    plt.savefig(str(frame+100) + \".png\",  bbox_inches=\"tight\")\n",
    "    plt.close()"
   ]
  },
  {
   "cell_type": "markdown",
   "metadata": {},
   "source": [
    "### Hold"
   ]
  },
  {
   "cell_type": "code",
   "execution_count": 6,
   "metadata": {},
   "outputs": [],
   "source": [
    "FRAMES = 50\n",
    "\n",
    "X3 = np.zeros(FRAMES) + 0.95\n",
    "X4 = np.zeros(FRAMES) - 0.95\n",
    "Y3 = np.arange(0,370,370/FRAMES)\n",
    "Y4 = np.arange(0,370,370/FRAMES)\n",
    "\n",
    "for frame in range(FRAMES):\n",
    "    matplotlib.style.use('ggplot')\n",
    "    \n",
    "    fig, ax = plt.subplots(1,figsize=(8,5), dpi=200)\n",
    "    ax.hist(values[0:N],50, color=\"black\")\n",
    "    ax.set_xlim(-4,4)\n",
    "    ax.set_ylim(0,650)\n",
    "    ax.set_xticks([]); ax.set_yticks([])\n",
    "    ax.tick_params(labelbottom=False, labelleft=False)\n",
    "    ax.grid(False)\n",
    "    \n",
    "    ax.text(-1.97,670,r\"$f(x) = \\frac{1}{\\sigma \\sqrt{2\\pi}} e^{-\\frac{1}{2} \\big(\\frac{x-\\mu}{\\sigma}\\big)^2}$\",\n",
    "             color=\"crimson\", size=28)\n",
    "    \n",
    "    ax.plot(X,Y, lw=3, zorder=10)\n",
    "    \n",
    "    ax.plot(X2,Y2, \"--\", lw=1, color=\"steelblue\")\n",
    "    \n",
    "    ax.text(-0.11,175,r\"$\\mu$\",\n",
    "            color=(35/200, 107/200, 142/200, 1), \n",
    "            backgroundcolor=\"black\",size=20)\n",
    "    \n",
    "    \n",
    "    ax.plot(X3,Y3, \"--\", lw=1, color=(35/200, 107/200, 142/200,1))\n",
    "    ax.plot(X4,Y4, \"--\", lw=1, color=(35/200, 107/200, 142/200,1))\n",
    "    ax.text(0.6,100,r\"$\\mu + \\sigma$\",\n",
    "            color=(35/200, 107/200, 142/200,1), \n",
    "            backgroundcolor=\"black\", size=20)\n",
    "    ax.text(-1.4,100,r\"$\\mu - \\sigma$\",\n",
    "            color=(35/200, 107/200, 142/200,1), \n",
    "            backgroundcolor=\"black\", size=20)\n",
    "        \n",
    "    \n",
    "    plt.savefig(str(frame+125) + \".png\",  bbox_inches=\"tight\")\n",
    "    plt.close()"
   ]
  },
  {
   "cell_type": "markdown",
   "metadata": {},
   "source": [
    "### Fade out"
   ]
  },
  {
   "cell_type": "code",
   "execution_count": 7,
   "metadata": {},
   "outputs": [],
   "source": [
    "FRAMES = 10\n",
    "\n",
    "X3 = np.zeros(FRAMES) + 0.95\n",
    "X4 = np.zeros(FRAMES) - 0.95\n",
    "Y3 = np.arange(0,370,370/FRAMES)\n",
    "Y4 = np.arange(0,370,370/FRAMES)\n",
    "\n",
    "for frame in range(FRAMES+1):\n",
    "    matplotlib.style.use('ggplot')\n",
    "    \n",
    "    fig, ax = plt.subplots(1,figsize=(8,5), dpi=200)\n",
    "    ax.hist(values[0:N],50, color=\"black\")\n",
    "    ax.set_xlim(-4,4)\n",
    "    ax.set_ylim(0,650)\n",
    "    ax.set_xticks([]); ax.set_yticks([])\n",
    "    ax.tick_params(labelbottom=False, labelleft=False)\n",
    "    ax.grid(False)\n",
    "    \n",
    "    ax.text(-1.97,670,r\"$f(x) = \\frac{1}{\\sigma \\sqrt{2\\pi}} e^{-\\frac{1}{2} \\big(\\frac{x-\\mu}{\\sigma}\\big)^2}$\",\n",
    "             color=\"crimson\", size=28)\n",
    "    \n",
    "    ax.plot(X,Y, lw=3, zorder=10)\n",
    "    \n",
    "    ax.plot(X2,Y2, \"--\", lw=1, color=(35/200, 107/200, 142/200, 1 - (1/FRAMES) * frame))\n",
    "    \n",
    "    ax.text(-0.11,175,r\"$\\mu$\",\n",
    "            color=(35/200, 107/200, 142/200, 1 - (1/FRAMES) * frame), \n",
    "            backgroundcolor=\"black\",size=20)\n",
    "    \n",
    "    \n",
    "    ax.plot(X3,Y3, \"--\", lw=1, color=(35/200, 107/200, 142/200,1 - (1/FRAMES) * frame))\n",
    "    ax.plot(X4,Y4, \"--\", lw=1, color=(35/200, 107/200, 142/200,1 - (1/FRAMES) * frame))\n",
    "    ax.text(0.6,100,r\"$\\mu + \\sigma$\",\n",
    "            color=(35/200, 107/200, 142/200,1 - (1/FRAMES) * frame), \n",
    "            backgroundcolor=\"black\", size=20)\n",
    "    ax.text(-1.4,100,r\"$\\mu - \\sigma$\",\n",
    "            color=(35/200, 107/200, 142/200,1 - (1/FRAMES) * frame), \n",
    "            backgroundcolor=\"black\", size=20)\n",
    "        \n",
    "    \n",
    "    plt.savefig(str(frame+175) + \".png\",  bbox_inches=\"tight\")\n",
    "    plt.close()"
   ]
  },
  {
   "cell_type": "markdown",
   "metadata": {},
   "source": [
    "### Part 4 | Draw Area"
   ]
  },
  {
   "cell_type": "code",
   "execution_count": 8,
   "metadata": {},
   "outputs": [],
   "source": [
    "FRAMES = 25\n",
    "\n",
    "X3 = np.zeros(FRAMES) + 0.95\n",
    "X4 = np.zeros(FRAMES) - 0.95\n",
    "Y3 = np.arange(0,370,370/FRAMES)\n",
    "Y4 = np.arange(0,370,370/FRAMES)\n",
    "\n",
    "X = np.arange(-5,5,0.05)\n",
    "Y = []\n",
    "for x in X:\n",
    "    Y.append(norm(x,1,0) * 1450)\n",
    "\n",
    "for frame in range(FRAMES+1):\n",
    "    matplotlib.style.use('ggplot')\n",
    "    \n",
    "    fig, ax = plt.subplots(1,figsize=(8,5), dpi=200)\n",
    "    ax.hist(values[0:N],50, color=(0,0,0,1-(1/FRAMES * frame)))\n",
    "    ax.set_xlim(-4,4)\n",
    "    ax.set_ylim(0,650)\n",
    "    ax.set_xticks([]); ax.set_yticks([])\n",
    "    ax.tick_params(labelbottom=False, labelleft=False)\n",
    "    ax.grid(False)\n",
    "    \n",
    "    ax.text(-1.97,670,r\"$f(x) = \\frac{1}{\\sigma \\sqrt{2\\pi}} e^{-\\frac{1}{2} \\big(\\frac{x-\\mu}{\\sigma}\\big)^2}$\",\n",
    "             color=\"crimson\", size=28)\n",
    "    \n",
    "    ax.plot(X,Y, lw=3)\n",
    "    \n",
    "    ax.fill_between([x for x in X if x<=1 and -1<=x][:-1], Y[81:121][:-1],\n",
    "                    color=(35/200, 107/200, 142/200,(1/FRAMES) * frame))\n",
    "    ax.text(-0.53,200,r\"$\\approx 68\\%$\",\n",
    "            color=(1, 1, 1, (1/FRAMES) * frame),size=20)\n",
    "    \n",
    "    plt.savefig(str(frame+185) + \".png\",  bbox_inches=\"tight\")\n",
    "    plt.close()"
   ]
  },
  {
   "cell_type": "code",
   "execution_count": 9,
   "metadata": {},
   "outputs": [],
   "source": [
    "FRAMES = 45\n",
    "\n",
    "X3 = np.zeros(FRAMES) + 0.95\n",
    "X4 = np.zeros(FRAMES) - 0.95\n",
    "Y3 = np.arange(0,370,370/FRAMES)\n",
    "Y4 = np.arange(0,370,370/FRAMES)\n",
    "\n",
    "X = np.arange(-5,5,0.05)\n",
    "Y = []\n",
    "for x in X:\n",
    "    Y.append(norm(x,1,0) * 1450)\n",
    "\n",
    "for frame in range(FRAMES+1):\n",
    "    matplotlib.style.use('ggplot')\n",
    "    \n",
    "    fig, ax = plt.subplots(1,figsize=(8,5), dpi=200)\n",
    "    ax.set_xlim(-4,4)\n",
    "    ax.set_ylim(0,650)\n",
    "    ax.set_xticks([]); ax.set_yticks([])\n",
    "    ax.tick_params(labelbottom=False, labelleft=False)\n",
    "    ax.grid(False)\n",
    "    \n",
    "    ax.text(-1.97,670,r\"$f(x) = \\frac{1}{\\sigma \\sqrt{2\\pi}} e^{-\\frac{1}{2} \\big(\\frac{x-\\mu}{\\sigma}\\big)^2}$\",\n",
    "             color=\"crimson\", size=28)\n",
    "    \n",
    "    ax.plot(X,Y, lw=3)\n",
    "    \n",
    "    ax.fill_between([x for x in X if x<=1 and -1<=x][:-1], Y[81:121][:-1],\n",
    "                    color=(35/200, 107/200, 142/200,1))\n",
    "    ax.text(-0.53,200,r\"$\\approx 68\\%$\",\n",
    "            color=(1, 1, 1, 1), size=20)\n",
    "                    \n",
    "    plt.savefig(str(frame+210) + \".png\",  bbox_inches=\"tight\")\n",
    "    plt.close()"
   ]
  },
  {
   "cell_type": "code",
   "execution_count": 10,
   "metadata": {},
   "outputs": [],
   "source": [
    "FRAMES = 20\n",
    "\n",
    "X3 = np.zeros(FRAMES) + 0.95\n",
    "X4 = np.zeros(FRAMES) - 0.95\n",
    "Y3 = np.arange(0,370,370/FRAMES)\n",
    "Y4 = np.arange(0,370,370/FRAMES)\n",
    "\n",
    "X = np.arange(-5,5,0.05)\n",
    "Y = []\n",
    "for x in X:\n",
    "    Y.append(norm(x,1,0) * 1450)\n",
    "\n",
    "for frame in range(FRAMES+1):\n",
    "    matplotlib.style.use('ggplot')\n",
    "    \n",
    "    fig, ax = plt.subplots(1,figsize=(8,5), dpi=200)\n",
    "    ax.set_xlim(-4,4)\n",
    "    ax.set_ylim(0,650)\n",
    "    ax.set_xticks([]); ax.set_yticks([])\n",
    "    ax.tick_params(labelbottom=False, labelleft=False)\n",
    "    ax.grid(False)\n",
    "    \n",
    "    ax.text(-1.97,670,r\"$f(x) = \\frac{1}{\\sigma \\sqrt{2\\pi}} e^{-\\frac{1}{2} \\big(\\frac{x-\\mu}{\\sigma}\\big)^2}$\",\n",
    "             color=\"black\", size=28)\n",
    "    ax.text(-1.97,670,r\"$f(x) = \\frac{1}{\\sigma \\sqrt{2\\pi}} e^{-\\frac{1}{2} \\big(\\frac{x-\\mu}{\\sigma}\\big)^2}$\",\n",
    "             color=(220/250, 20/250, 60/250, 1 - (1/FRAMES) * frame), size=28)\n",
    "    \n",
    "    ax.plot(X,Y, lw=3,  color=(220/250, 20/250, 60/250, 1 - (1/FRAMES) * frame))\n",
    "    \n",
    "    ax.fill_between([x for x in X if x<=1 and -1<=x][:-1], Y[81:121][:-1],\n",
    "                    color=(35/200, 107/200, 142/200,1 - (1/FRAMES) * frame))\n",
    "    ax.text(-0.53,200,r\"$\\approx 68\\%$\",\n",
    "            color=(1, 1, 1, 1 - (1/FRAMES) * frame), size=20)\n",
    "                    \n",
    "    plt.savefig(str(frame+255) + \".png\",  bbox_inches=\"tight\")\n",
    "    plt.close()"
   ]
  },
  {
   "cell_type": "code",
   "execution_count": 11,
   "metadata": {},
   "outputs": [
    {
     "name": "stdout",
     "output_type": "stream",
     "text": [
      "...history video saved as movie.mp4\n"
     ]
    }
   ],
   "source": [
    "from movie import createVideo\n",
    "createVideo()"
   ]
  }
 ],
 "metadata": {
  "kernelspec": {
   "display_name": "Python 3",
   "language": "python",
   "name": "python3"
  },
  "language_info": {
   "codemirror_mode": {
    "name": "ipython",
    "version": 3
   },
   "file_extension": ".py",
   "mimetype": "text/x-python",
   "name": "python",
   "nbconvert_exporter": "python",
   "pygments_lexer": "ipython3",
   "version": "3.5.7"
  }
 },
 "nbformat": 4,
 "nbformat_minor": 2
}
